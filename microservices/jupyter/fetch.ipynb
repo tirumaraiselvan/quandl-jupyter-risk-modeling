{
 "cells": [
  {
   "cell_type": "code",
   "execution_count": null,
   "metadata": {},
   "outputs": [],
   "source": [
    "import requests\n",
    "import json\n",
    "\n",
    "# This is the url to which the query is made\n",
    "url = \"https://quandl.disbursal95.hasura-app.io/add_data\"\n",
    "\n",
    "# This is the json payload for the query\n",
    "requestPayload = {\n",
    "    \"vendor_code\": \"WIKI\",\n",
    "    \"datatable_code\": \"PRICES\"\n",
    "}\n",
    "\n",
    "# Setting headers\n",
    "headers = {\n",
    "    \"Content-Type\": \"application/json\"\n",
    "}\n",
    "\n",
    "# Make the query and store response in resp\n",
    "resp = requests.request(\"POST\", url, data=json.dumps(requestPayload), headers=headers)\n",
    "\n",
    "# resp.content contains the json response.\n",
    "print(resp.content)"
   ]
  }
 ],
 "metadata": {
  "kernelspec": {
   "display_name": "Python 3",
   "language": "python",
   "name": "python3"
  },
  "language_info": {
   "codemirror_mode": {
    "name": "ipython",
    "version": 3
   },
   "file_extension": ".py",
   "mimetype": "text/x-python",
   "name": "python",
   "nbconvert_exporter": "python",
   "pygments_lexer": "ipython3",
   "version": "3.6.3"
  }
 },
 "nbformat": 4,
 "nbformat_minor": 2
}
