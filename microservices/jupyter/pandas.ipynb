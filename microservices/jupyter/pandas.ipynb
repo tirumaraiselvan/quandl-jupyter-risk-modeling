{
 "cells": [
  {
   "cell_type": "code",
   "execution_count": null,
   "metadata": {},
   "outputs": [],
   "source": [
    "import requests\n",
    "import json\n",
    "\n",
    "# This is the url to which the query is made\n",
    "url = \"http://data.hasura/v1/query\"\n",
    "\n",
    "# This is the json payload for the query\n",
    "requestPayload = {\n",
    "    \"type\": \"select\",\n",
    "    \"args\": {\n",
    "        \"table\": \"wiki_prices\",\n",
    "        \"columns\": [\n",
    "            \"ticker\",\n",
    "            \"date\",\n",
    "            \"close\"\n",
    "        ],\n",
    "        \"where\": {\n",
    "            \"ticker\": {\n",
    "                \"$eq\": \"A\"\n",
    "            }\n",
    "        }\n",
    "    }\n",
    "}\n",
    "\n",
    "# Setting headers\n",
    "headers = {\n",
    "    \"Content-Type\": \"application/json\",\n",
    "    \"X-Hasura-Role\": \"admin\"\n",
    "}\n",
    "\n",
    "# Make the query and store response in resp\n",
    "resp = requests.request(\"POST\", url, data=json.dumps(requestPayload), headers=headers)\n",
    "tickerData = json.loads(resp.content)"
   ]
  },
  {
   "cell_type": "code",
   "execution_count": null,
   "metadata": {},
   "outputs": [],
   "source": [
    "print(tickerData[0])"
   ]
  },
  {
   "cell_type": "code",
   "execution_count": null,
   "metadata": {},
   "outputs": [],
   "source": [
    "import pandas as pd\n",
    "\n",
    "df = pd.DataFrame(tickerData)\n",
    "\n",
    "print(df)"
   ]
  }
 ],
 "metadata": {
  "kernelspec": {
   "display_name": "Python 3",
   "language": "python",
   "name": "python3"
  },
  "language_info": {
   "codemirror_mode": {
    "name": "ipython",
    "version": 3
   },
   "file_extension": ".py",
   "mimetype": "text/x-python",
   "name": "python",
   "nbconvert_exporter": "python",
   "pygments_lexer": "ipython3",
   "version": "3.6.3"
  }
 },
 "nbformat": 4,
 "nbformat_minor": 2
}
